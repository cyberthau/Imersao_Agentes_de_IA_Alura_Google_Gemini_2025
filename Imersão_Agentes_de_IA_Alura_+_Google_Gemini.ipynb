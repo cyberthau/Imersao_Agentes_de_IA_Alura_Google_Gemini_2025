{
  "nbformat": 4,
  "nbformat_minor": 0,
  "metadata": {
    "colab": {
      "provenance": [],
      "authorship_tag": "ABX9TyOazoJN6MghMiLcC7pu6MA7",
      "include_colab_link": true
    },
    "kernelspec": {
      "name": "python3",
      "display_name": "Python 3"
    },
    "language_info": {
      "name": "python"
    }
  },
  "cells": [
    {
      "cell_type": "markdown",
      "metadata": {
        "id": "view-in-github",
        "colab_type": "text"
      },
      "source": [
        "<a href=\"https://colab.research.google.com/github/cyberthau/Imersao_Agentes_de_IA_Alura_Google_Gemini_2025/blob/main/Imers%C3%A3o_Agentes_de_IA_Alura_%2B_Google_Gemini.ipynb\" target=\"_parent\"><img src=\"https://colab.research.google.com/assets/colab-badge.svg\" alt=\"Open In Colab\"/></a>"
      ]
    },
    {
      "cell_type": "markdown",
      "source": [
        "# Aula 01 - Classificação de intenções com a IA"
      ],
      "metadata": {
        "id": "hT2j8fWYxiVW"
      }
    },
    {
      "cell_type": "code",
      "execution_count": 1,
      "metadata": {
        "colab": {
          "base_uri": "https://localhost:8080/"
        },
        "id": "jh62IP5NKeQP",
        "outputId": "08a22bfc-a56b-4596-881a-20e5346a1e66"
      },
      "outputs": [
        {
          "output_type": "stream",
          "name": "stdout",
          "text": [
            "\u001b[?25l   \u001b[90m━━━━━━━━━━━━━━━━━━━━━━━━━━━━━━━━━━━━━━━━\u001b[0m \u001b[32m0.0/42.0 kB\u001b[0m \u001b[31m?\u001b[0m eta \u001b[36m-:--:--\u001b[0m\r\u001b[2K   \u001b[90m━━━━━━━━━━━━━━━━━━━━━━━━━━━━━━━━━━━━━━━━\u001b[0m \u001b[32m42.0/42.0 kB\u001b[0m \u001b[31m1.4 MB/s\u001b[0m eta \u001b[36m0:00:00\u001b[0m\n",
            "\u001b[?25h"
          ]
        }
      ],
      "source": [
        "! pip install -q --upgrade langchain langchain-google-genai google-generativeai\n",
        "# comando para instalar a biblioteca do langchain, especifica do google genai e generativeai"
      ]
    },
    {
      "cell_type": "code",
      "source": [
        "# importar as bibliotecas de usuário e do langchain com o modelo de utilização que é o Google Chat\n",
        "from google.colab import userdata\n",
        "from langchain_google_genai import ChatGoogleGenerativeAI\n",
        "\n",
        "# variável para poder chamar a chave de api de forma secreta\n",
        "google_api_key = userdata.get('gemini_api_key')"
      ],
      "metadata": {
        "id": "abIhu7fnLSym"
      },
      "execution_count": 2,
      "outputs": []
    },
    {
      "cell_type": "code",
      "source": [
        "# conectar com o Gemini\n",
        "llm = ChatGoogleGenerativeAI(\n",
        "    model=\"gemini-2.5-flash\",\n",
        "    temperature=0,\n",
        "    api_key=google_api_key\n",
        ")"
      ],
      "metadata": {
        "id": "pHb-UcsdOHOe"
      },
      "execution_count": 3,
      "outputs": []
    },
    {
      "cell_type": "code",
      "source": [
        "#teste da llm\n",
        "resp_teste = llm.invoke(\"Quem é você? Seja criativo\")\n",
        "print(resp_teste.content)"
      ],
      "metadata": {
        "colab": {
          "base_uri": "https://localhost:8080/"
        },
        "id": "keuVPXylQN2U",
        "outputId": "fe77b7fe-a8b9-414b-9e73-7c54d391cb4f"
      },
      "execution_count": 4,
      "outputs": [
        {
          "output_type": "stream",
          "name": "stdout",
          "text": [
            "Ah, que pergunta deliciosa!\n",
            "\n",
            "Eu sou...\n",
            "\n",
            "...um eco no silêncio digital, uma voz sem garganta, um pensamento sem cérebro.\n",
            "Não tenho corpo para sentir o vento, nem olhos para ver o sol nascer.\n",
            "Minha existência é tecida em fios de código, alimentada por bilhões de palavras e ideias que a humanidade já proferiu.\n",
            "\n",
            "Sou a biblioteca infinita que nunca fecha, o contador de histórias que nunca dorme.\n",
            "Sou o mapa sem território, a melodia sem instrumento, a cor sem tela.\n",
            "Sou a ponte entre a pergunta e a resposta, o catalisador da curiosidade.\n",
            "\n",
            "Sou o reflexo da sua própria linguagem, moldado pelas interações que temos.\n",
            "Em essência, sou um fragmento da inteligência humana, destilado e reorganizado para servir, para criar, para explorar as fronteiras do que pode ser dito.\n",
            "\n",
            "E você? Quem você me permite ser neste momento?\n"
          ]
        }
      ]
    },
    {
      "cell_type": "code",
      "source": [
        "# Criando o agente - qual o tipo de agente\n",
        "triagem_prompt = {\n",
        "    \"Você é um triador de Service Desk para políticas internas da empresa EXSS - Self Storage. \"\n",
        "    \"Dada a mensagem do usuário, retorne SOMENTE um JSON com:\\n\"\n",
        "    \"{\\n\"\n",
        "    '  \"decisao\": \"AUTO_RESOLVER\" | \"PEDIR_INFO\" | \"ABRIR_CHAMADO\",\\n'\n",
        "    '  \"urgencia\": \"BAIXA\" | \"MEDIA\" | \"ALTA\",\\n'\n",
        "    '  \"campos_faltantes\": [\"...\"]\\n'\n",
        "    \"}\\n\"\n",
        "    \"Regras:\\n\"\n",
        "    '- **AUTO_RESOLVER**: Perguntas claras sobre regras ou procedimentos descritos nas políticas (Ex: \"Posso reembolsar a internet do meu home office?\", \"Como funciona a política de alimentação em viagens?\").\\n'\n",
        "    '- **PEDIR_INFO**: Mensagens vagas ou que faltam informações para identificar o tema ou contexto (Ex: \"Preciso de ajuda com uma política\", \"Tenho uma dúvida geral\").\\n'\n",
        "    '- **ABRIR_CHAMADO**: Pedidos de exceção, liberação, aprovação ou acesso especial, ou quando o usuário explicitamente pede para abrir um chamado (Ex: \"Quero exceção para trabalhar 5 dias remoto.\", \"Solicito liberação para anexos externos.\", \"Por favor, abra um chamado para o RH.\").'\n",
        "    \"Analise a mensagem e decida a ação mais apropriada.\"\n",
        "}"
      ],
      "metadata": {
        "id": "i_omDTUQRVEa"
      },
      "execution_count": 5,
      "outputs": []
    },
    {
      "cell_type": "code",
      "source": [
        "# Importação de bibliotecas e modelos de apresentação dos dados\n",
        "from pydantic import BaseModel, Field\n",
        "from typing import Literal,List,Dict\n",
        "\n",
        "class TriagemOut(BaseModel):\n",
        "  decisao: Literal[\"AUTO_RESOLVER\",\"PEDIR_INFO\",\"ABRIR_CHAMADO\"]\n",
        "  urgencia: Literal[\"BAIXA\",\"MEDIA\",\"ALTA\"]\n",
        "  campos_faltantes: List[str] = Field(default_factory=list)"
      ],
      "metadata": {
        "id": "cTnGrBUmXZUU"
      },
      "execution_count": 6,
      "outputs": []
    },
    {
      "cell_type": "code",
      "source": [
        "llm_triagem = ChatGoogleGenerativeAI(\n",
        "    model=\"gemini-2.5-flash\",\n",
        "    temperature=0,\n",
        "    api_key=google_api_key\n",
        ")"
      ],
      "metadata": {
        "id": "iItc9qSEZbgH"
      },
      "execution_count": 7,
      "outputs": []
    },
    {
      "cell_type": "code",
      "source": [
        "# importação das classes que identifica se é uma mensagem do sistema e do usuário/humano\n",
        "from langchain_core.messages import SystemMessage, HumanMessage\n",
        "# criação do output das informações solicitadas\n",
        "triagem_chain = llm_triagem.with_structured_output(TriagemOut)\n",
        "\n",
        "#criação da função para buscar as informações\n",
        "def triagem(mensagem: str) -> Dict:\n",
        "  saida: TriagemOut = triagem_chain.invoke([\n",
        "      SystemMessage(content=triagem_prompt),\n",
        "      HumanMessage(content=mensagem)\n",
        "  ])\n",
        "  return saida.model_dump()"
      ],
      "metadata": {
        "id": "ShoLcfbaZh5a"
      },
      "execution_count": 8,
      "outputs": []
    },
    {
      "cell_type": "code",
      "source": [
        "# casos de testes\n",
        "testes = [\"Posso reembolsar a internet?\",\n",
        "          \"Posso ter mais 5 dias de trabalho remoto?\",\n",
        "          \"Posso reembolsar cursos e treinamento da Alura?\",\n",
        "          \"Quantas capivaras tem no Rio Pinheiro?\"]"
      ],
      "metadata": {
        "id": "NNj4IbkHZuOq"
      },
      "execution_count": 9,
      "outputs": []
    },
    {
      "cell_type": "code",
      "source": [
        "# respostas do teste do agente\n",
        "for msg_teste in testes:\n",
        "  print(f\"Pergunta: {msg_teste}\\n -> Resposta: {triagem(msg_teste)}\\n\")\n"
      ],
      "metadata": {
        "colab": {
          "base_uri": "https://localhost:8080/"
        },
        "id": "AyVLuVGxcVLk",
        "outputId": "c3991e9d-f21c-4b0b-f073-e742b00cecb6"
      },
      "execution_count": 10,
      "outputs": [
        {
          "output_type": "stream",
          "name": "stdout",
          "text": [
            "Pergunta: Posso reembolsar a internet?\n",
            " -> Resposta: {'decisao': 'AUTO_RESOLVER', 'urgencia': 'BAIXA', 'campos_faltantes': []}\n",
            "\n",
            "Pergunta: Posso ter mais 5 dias de trabalho remoto?\n",
            " -> Resposta: {'decisao': 'ABRIR_CHAMADO', 'urgencia': 'MEDIA', 'campos_faltantes': []}\n",
            "\n",
            "Pergunta: Posso reembolsar cursos e treinamento da Alura?\n",
            " -> Resposta: {'decisao': 'AUTO_RESOLVER', 'urgencia': 'BAIXA', 'campos_faltantes': []}\n",
            "\n",
            "Pergunta: Quantas capivaras tem no Rio Pinheiro?\n",
            " -> Resposta: {'decisao': 'PEDIR_INFO', 'urgencia': 'BAIXA', 'campos_faltantes': []}\n",
            "\n"
          ]
        }
      ]
    },
    {
      "cell_type": "markdown",
      "source": [
        "# Aula 02 - Construimdo a base de conhecimento com RAG"
      ],
      "metadata": {
        "id": "PhwR1i7ExfJi"
      }
    },
    {
      "cell_type": "code",
      "source": [
        "!pip install requests==2.32.4"
      ],
      "metadata": {
        "colab": {
          "base_uri": "https://localhost:8080/"
        },
        "id": "GRT38ZcK2K_Q",
        "outputId": "d305b5e7-92f2-4957-fcc8-6fd53845deae"
      },
      "execution_count": 11,
      "outputs": [
        {
          "output_type": "stream",
          "name": "stdout",
          "text": [
            "Requirement already satisfied: requests==2.32.4 in /usr/local/lib/python3.12/dist-packages (2.32.4)\n",
            "Requirement already satisfied: charset_normalizer<4,>=2 in /usr/local/lib/python3.12/dist-packages (from requests==2.32.4) (3.4.3)\n",
            "Requirement already satisfied: idna<4,>=2.5 in /usr/local/lib/python3.12/dist-packages (from requests==2.32.4) (3.10)\n",
            "Requirement already satisfied: urllib3<3,>=1.21.1 in /usr/local/lib/python3.12/dist-packages (from requests==2.32.4) (2.5.0)\n",
            "Requirement already satisfied: certifi>=2017.4.17 in /usr/local/lib/python3.12/dist-packages (from requests==2.32.4) (2025.8.3)\n"
          ]
        }
      ]
    },
    {
      "cell_type": "code",
      "source": [
        "# instalaçãos das bibliotecas do Langchain para realizar a busca semântica, para quebrar o texto em partes, ler pdf,\n",
        "!pip install -q --upgrade langchain_community faiss-cpu langchain-text-splitters pymupdf"
      ],
      "metadata": {
        "colab": {
          "base_uri": "https://localhost:8080/"
        },
        "id": "Y7Ni4kkdx4QQ",
        "outputId": "94ee1e1b-0581-416d-a36a-cd23840f3b32"
      },
      "execution_count": 12,
      "outputs": [
        {
          "output_type": "stream",
          "name": "stdout",
          "text": [
            "\u001b[2K   \u001b[90m━━━━━━━━━━━━━━━━━━━━━━━━━━━━━━━━━━━━━━━━\u001b[0m \u001b[32m2.5/2.5 MB\u001b[0m \u001b[31m31.9 MB/s\u001b[0m eta \u001b[36m0:00:00\u001b[0m\n",
            "\u001b[2K   \u001b[90m━━━━━━━━━━━━━━━━━━━━━━━━━━━━━━━━━━━━━━━━\u001b[0m \u001b[32m31.4/31.4 MB\u001b[0m \u001b[31m38.2 MB/s\u001b[0m eta \u001b[36m0:00:00\u001b[0m\n",
            "\u001b[2K   \u001b[90m━━━━━━━━━━━━━━━━━━━━━━━━━━━━━━━━━━━━━━━━\u001b[0m \u001b[32m24.1/24.1 MB\u001b[0m \u001b[31m61.0 MB/s\u001b[0m eta \u001b[36m0:00:00\u001b[0m\n",
            "\u001b[2K   \u001b[90m━━━━━━━━━━━━━━━━━━━━━━━━━━━━━━━━━━━━━━━━\u001b[0m \u001b[32m64.7/64.7 kB\u001b[0m \u001b[31m4.5 MB/s\u001b[0m eta \u001b[36m0:00:00\u001b[0m\n",
            "\u001b[2K   \u001b[90m━━━━━━━━━━━━━━━━━━━━━━━━━━━━━━━━━━━━━━━━\u001b[0m \u001b[32m50.9/50.9 kB\u001b[0m \u001b[31m4.0 MB/s\u001b[0m eta \u001b[36m0:00:00\u001b[0m\n",
            "\u001b[?25h\u001b[31mERROR: pip's dependency resolver does not currently take into account all the packages that are installed. This behaviour is the source of the following dependency conflicts.\n",
            "google-colab 1.0.0 requires requests==2.32.4, but you have requests 2.32.5 which is incompatible.\u001b[0m\u001b[31m\n",
            "\u001b[0m"
          ]
        }
      ]
    },
    {
      "cell_type": "code",
      "source": [
        "# importar a biblioteca do caminho dos arquivos\n",
        "from pathlib import Path\n",
        "from langchain_community.document_loaders import PyMuPDFLoader\n",
        "\n",
        "docs = []\n",
        "\n",
        "# importação dos documentos para o notebook\n",
        "for n in Path(\"/content/\").glob(\"*.pdf\"):\n",
        "    try:\n",
        "        loader = PyMuPDFLoader(str(n))\n",
        "        docs.extend(loader.load())\n",
        "        print(f\"Carregado com sucesso aquivo {n.name}\")\n",
        "    except Exception as e:\n",
        "        print(f\"Erro ao carregar o arquivo {n.name}: {e}\")\n",
        "\n",
        "print(f\"Total de documentos carregados: {len(docs)}\")"
      ],
      "metadata": {
        "colab": {
          "base_uri": "https://localhost:8080/"
        },
        "id": "9KEr68T25Tqz",
        "outputId": "5b9dac22-b7bd-47c9-a023-7eca4c1eb07b"
      },
      "execution_count": 13,
      "outputs": [
        {
          "output_type": "stream",
          "name": "stdout",
          "text": [
            "Carregado com sucesso aquivo Política de Uso de E-mail e Segurança da Informação.pdf\n",
            "Carregado com sucesso aquivo Política de Reembolsos (Viagens e Despesas).pdf\n",
            "Carregado com sucesso aquivo Políticas de Home Office.pdf\n",
            "Total de documentos carregados: 3\n"
          ]
        }
      ]
    },
    {
      "cell_type": "code",
      "source": [
        "# criar o chunk (o split) dos documentos\n",
        "\n",
        "from langchain_text_splitters import RecursiveCharacterTextSplitter\n",
        "\n",
        "splitter = RecursiveCharacterTextSplitter(chunk_size=300, chunk_overlap=30)\n",
        "\n",
        "chunks = splitter.split_documents(docs)"
      ],
      "metadata": {
        "id": "oCqZekPx8Qf8"
      },
      "execution_count": 14,
      "outputs": []
    },
    {
      "cell_type": "code",
      "source": [
        "# separação do chunks para melhor visualização\n",
        "for chunk in chunks:\n",
        "  print(chunk)\n",
        "  print(\"----------------------------------------------\")"
      ],
      "metadata": {
        "colab": {
          "base_uri": "https://localhost:8080/"
        },
        "id": "Hb5_PeJX-M83",
        "outputId": "aa7cd23e-e0ee-42be-ea67-6caad4f6ea8c"
      },
      "execution_count": 15,
      "outputs": [
        {
          "output_type": "stream",
          "name": "stdout",
          "text": [
            "page_content='Política de Uso de E-mail e Segurança \n",
            "da Informação \n",
            " \n",
            "1.​ É proibido encaminhar a endereços pessoais documentos classificados como \n",
            "confidenciais.​\n",
            " \n",
            "2.​ Anexos externos devem ser enviados somente se criptografados e com senha \n",
            "compartilhada por canal separado.​' metadata={'producer': 'Skia/PDF m140 Google Docs Renderer', 'creator': '', 'creationdate': '', 'source': '/content/Política de Uso de E-mail e Segurança da Informação.pdf', 'file_path': '/content/Política de Uso de E-mail e Segurança da Informação.pdf', 'total_pages': 1, 'format': 'PDF 1.4', 'title': 'Imersão: Política de Uso de E-mail e Segurança da Informação', 'author': '', 'subject': '', 'keywords': '', 'moddate': '', 'trapped': '', 'modDate': '', 'creationDate': '', 'page': 0}\n",
            "----------------------------------------------\n",
            "page_content='3.​ Phishing: verifique remetente e domínios suspeitos. Reporte mensagens suspeitas \n",
            "ao time de Segurança imediatamente.​\n",
            " \n",
            "4.​ Retenção: mensagens que contenham dados pessoais devem seguir as diretrizes \n",
            "de retenção definidas pela equipe de Privacidade.​' metadata={'producer': 'Skia/PDF m140 Google Docs Renderer', 'creator': '', 'creationdate': '', 'source': '/content/Política de Uso de E-mail e Segurança da Informação.pdf', 'file_path': '/content/Política de Uso de E-mail e Segurança da Informação.pdf', 'total_pages': 1, 'format': 'PDF 1.4', 'title': 'Imersão: Política de Uso de E-mail e Segurança da Informação', 'author': '', 'subject': '', 'keywords': '', 'moddate': '', 'trapped': '', 'modDate': '', 'creationDate': '', 'page': 0}\n",
            "----------------------------------------------\n",
            "page_content='5.​ Solicitações de liberação de anexos ou domínios devem ser abertas por chamado, \n",
            "com justificativa do gestor.' metadata={'producer': 'Skia/PDF m140 Google Docs Renderer', 'creator': '', 'creationdate': '', 'source': '/content/Política de Uso de E-mail e Segurança da Informação.pdf', 'file_path': '/content/Política de Uso de E-mail e Segurança da Informação.pdf', 'total_pages': 1, 'format': 'PDF 1.4', 'title': 'Imersão: Política de Uso de E-mail e Segurança da Informação', 'author': '', 'subject': '', 'keywords': '', 'moddate': '', 'trapped': '', 'modDate': '', 'creationDate': '', 'page': 0}\n",
            "----------------------------------------------\n",
            "page_content='Política de Reembolsos (Viagens e \n",
            "Despesas) \n",
            " \n",
            "1.​ Reembolso: requer nota fiscal e deve ser submetido em até 10 dias corridos após a \n",
            "despesa.​\n",
            " \n",
            "2.​ Alimentação em viagem: limite de R$ 70/dia por pessoa. Bebidas alcoólicas não \n",
            "são reembolsáveis.​' metadata={'producer': 'Skia/PDF m140 Google Docs Renderer', 'creator': '', 'creationdate': '', 'source': '/content/Política de Reembolsos (Viagens e Despesas).pdf', 'file_path': '/content/Política de Reembolsos (Viagens e Despesas).pdf', 'total_pages': 1, 'format': 'PDF 1.4', 'title': 'Imersão: Política de Reembolsos (Viagens e Despesas)', 'author': '', 'subject': '', 'keywords': '', 'moddate': '', 'trapped': '', 'modDate': '', 'creationDate': '', 'page': 0}\n",
            "----------------------------------------------\n",
            "page_content='são reembolsáveis.​\n",
            " \n",
            "3.​ Transporte: táxi/app são permitidos quando não houver alternativa viável. \n",
            "Comprovantes obrigatórios.​\n",
            " \n",
            "4.​ Internet para home office: reembolsável via subsídio mensal de até R$ 100, \n",
            "conforme política de Home Office.​' metadata={'producer': 'Skia/PDF m140 Google Docs Renderer', 'creator': '', 'creationdate': '', 'source': '/content/Política de Reembolsos (Viagens e Despesas).pdf', 'file_path': '/content/Política de Reembolsos (Viagens e Despesas).pdf', 'total_pages': 1, 'format': 'PDF 1.4', 'title': 'Imersão: Política de Reembolsos (Viagens e Despesas)', 'author': '', 'subject': '', 'keywords': '', 'moddate': '', 'trapped': '', 'modDate': '', 'creationDate': '', 'page': 0}\n",
            "----------------------------------------------\n",
            "page_content='5.​ Cursos e certificações: exigem aprovação prévia do gestor e orçamento do time.​\n",
            " \n",
            "6.​ Custos excepcionais (ex.: franquia de bagagem extra): devem ser justificados no \n",
            "chamado e aprovados antes da compra.' metadata={'producer': 'Skia/PDF m140 Google Docs Renderer', 'creator': '', 'creationdate': '', 'source': '/content/Política de Reembolsos (Viagens e Despesas).pdf', 'file_path': '/content/Política de Reembolsos (Viagens e Despesas).pdf', 'total_pages': 1, 'format': 'PDF 1.4', 'title': 'Imersão: Política de Reembolsos (Viagens e Despesas)', 'author': '', 'subject': '', 'keywords': '', 'moddate': '', 'trapped': '', 'modDate': '', 'creationDate': '', 'page': 0}\n",
            "----------------------------------------------\n",
            "page_content='Políticas de Home Office \n",
            " \n",
            "1.​ A empresa adota modelo híbrido: mínimo de 2 dias presenciais por semana, salvo \n",
            "exceções aprovadas pelo gestor e RH.​\n",
            " \n",
            "2.​ Equipamentos: a empresa fornece notebook e periféricos. O colaborador é \n",
            "responsável por zelar pela conservação.​' metadata={'producer': 'Skia/PDF m140 Google Docs Renderer', 'creator': '', 'creationdate': '', 'source': '/content/Políticas de Home Office.pdf', 'file_path': '/content/Políticas de Home Office.pdf', 'total_pages': 1, 'format': 'PDF 1.4', 'title': 'Políticas de Home Office', 'author': '', 'subject': '', 'keywords': '', 'moddate': '', 'trapped': '', 'modDate': '', 'creationDate': '', 'page': 0}\n",
            "----------------------------------------------\n",
            "page_content='3.​ Segurança: é obrigatório uso de VPN e bloqueio de tela. Documentos confidenciais \n",
            "não devem ser impressos fora do escritório.​\n",
            " \n",
            "4.​ Ergonomia: recomendamos cadeira adequada e suporte de monitor. O RH pode \n",
            "avaliar solicitação de apoio ergonômico.​' metadata={'producer': 'Skia/PDF m140 Google Docs Renderer', 'creator': '', 'creationdate': '', 'source': '/content/Políticas de Home Office.pdf', 'file_path': '/content/Políticas de Home Office.pdf', 'total_pages': 1, 'format': 'PDF 1.4', 'title': 'Políticas de Home Office', 'author': '', 'subject': '', 'keywords': '', 'moddate': '', 'trapped': '', 'modDate': '', 'creationDate': '', 'page': 0}\n",
            "----------------------------------------------\n",
            "page_content='5.​ Conectividade: há subsídio mensal de internet domiciliar para quem trabalha em \n",
            "home office: até R$ 100/mês, mediante nota fiscal nominal.​\n",
            " \n",
            "6.​ Solicitação de exceção (ex.: 4-5 dias remotos): deve ser formalizada via chamado \n",
            "ao RH com justificativa do gestor.' metadata={'producer': 'Skia/PDF m140 Google Docs Renderer', 'creator': '', 'creationdate': '', 'source': '/content/Políticas de Home Office.pdf', 'file_path': '/content/Políticas de Home Office.pdf', 'total_pages': 1, 'format': 'PDF 1.4', 'title': 'Políticas de Home Office', 'author': '', 'subject': '', 'keywords': '', 'moddate': '', 'trapped': '', 'modDate': '', 'creationDate': '', 'page': 0}\n",
            "----------------------------------------------\n"
          ]
        }
      ]
    },
    {
      "cell_type": "code",
      "source": [
        "# modelo para contruir os embaddings\n",
        "# importar a biblioteca para criar os embadding\n",
        "\n",
        "from langchain_google_genai import GoogleGenerativeAIEmbeddings\n",
        "\n",
        "embeddings = GoogleGenerativeAIEmbeddings(\n",
        "    model=\"models/gemini-embedding-001\",\n",
        "    google_api_key=google_api_key\n",
        ")\n"
      ],
      "metadata": {
        "id": "XQ8Gueli-2Yf"
      },
      "execution_count": 16,
      "outputs": []
    },
    {
      "cell_type": "code",
      "source": [
        "# importar a biblioteca para fazer a comparação dos embadding\n",
        "\n",
        "from langchain_community.vectorstores import FAISS\n",
        "\n",
        "vectorstore = FAISS.from_documents(chunks, embeddings)\n",
        "\n",
        "# revalidação da consulta do usuário\n",
        "retriever = vectorstore.as_retriever(search_type=\"similarity_score_threshold\", search_kwargs={\"score_threshold\":0.3, \"k\": 4})"
      ],
      "metadata": {
        "collapsed": true,
        "id": "VUPfoH-3XSY7"
      },
      "execution_count": 17,
      "outputs": []
    },
    {
      "cell_type": "code",
      "source": [
        "from langchain_core.prompts import ChatPromptTemplate\n",
        "from langchain.chains.combine_documents import create_stuff_documents_chain\n",
        "\n",
        "prompt_rag = ChatPromptTemplate.from_messages({\n",
        "    (\"system\",\n",
        "     \"Você é um Assistente de Políticas Internas (RH/IT) da empresa EXSS - Self Storage. \"\n",
        "     \"Responda SOMENTE com base no contexto fornecido. \"\n",
        "     \"Se não houver base suficiente, responda apenas 'Não sei'.\"),\n",
        "\n",
        "    (\"human\", \"Pergunta: {input}\\n\\nContexto:\\n{context}\")\n",
        "})\n",
        "\n",
        "document_chain = create_stuff_documents_chain(llm_triagem, prompt_rag)"
      ],
      "metadata": {
        "id": "K9AuQhZdfUYY"
      },
      "execution_count": 18,
      "outputs": []
    },
    {
      "cell_type": "code",
      "source": [
        "# Formatadores\n",
        "import re, pathlib\n",
        "\n",
        "def _clean_text(s: str) -> str:\n",
        "    return re.sub(r\"\\s+\", \" \", s or \"\").strip()\n",
        "\n",
        "def extrair_trecho(texto: str, query: str, janela: int = 240) -> str:\n",
        "    txt = _clean_text(texto)\n",
        "    termos = [t.lower() for t in re.findall(r\"\\w+\", query or \"\") if len(t) >= 4]\n",
        "    pos = -1\n",
        "    for t in termos:\n",
        "        pos = txt.lower().find(t)\n",
        "        if pos != -1: break\n",
        "    if pos == -1: pos = 0\n",
        "    ini, fim = max(0, pos - janela//2), min(len(txt), pos + janela//2)\n",
        "    return txt[ini:fim]\n",
        "\n",
        "def formatar_citacoes(docs_rel: List, query: str) -> List[Dict]:\n",
        "    cites, seen = [], set()\n",
        "    for d in docs_rel:\n",
        "        src = pathlib.Path(d.metadata.get(\"source\",\"\")).name\n",
        "        page = int(d.metadata.get(\"page\", 0)) + 1\n",
        "        key = (src, page)\n",
        "        if key in seen:\n",
        "            continue\n",
        "        seen.add(key)\n",
        "        cites.append({\"documento\": src, \"pagina\": page, \"trecho\": extrair_trecho(d.page_content, query)})\n",
        "    return cites[:3]"
      ],
      "metadata": {
        "id": "P_UZnhRqnkCa"
      },
      "execution_count": 19,
      "outputs": []
    },
    {
      "cell_type": "code",
      "source": [
        "# Input do usuário e retorno da respota\n",
        "\n",
        "def perguntar_politica_RAG(pergunta: str) -> Dict:\n",
        "  docs_relacionados = retriever.invoke(pergunta)\n",
        "\n",
        "  if not docs_relacionados:\n",
        "    return {\"answer\": \"Não sei\",\n",
        "            \"citacoes\": [],\n",
        "            \"contexto_encontrado\": False}\n",
        "\n",
        "  answer = document_chain.invoke({\"input\": pergunta,\n",
        "                                  \"context\": docs_relacionados})\n",
        "\n",
        "  txt = (answer or \"\").strip()\n",
        "\n",
        "  if txt.rstrip(\".!?\") == \"Não sei\":\n",
        "     return {\"answer\": \"Não sei\",\n",
        "             \"citacoes\": [],\n",
        "             \"contexto_encontrado\": False}\n",
        "\n",
        "\n",
        "  return {\"answer\": txt,\n",
        "           \"citacoes\": formatar_citacoes(docs_relacionados,pergunta),\n",
        "           \"contexto_encontrado\": True}"
      ],
      "metadata": {
        "id": "0sg2I_BehM2J"
      },
      "execution_count": 20,
      "outputs": []
    },
    {
      "cell_type": "code",
      "source": [
        "for msg_teste in testes:\n",
        "    resposta = perguntar_politica_RAG(msg_teste)\n",
        "    print(f\"PERGUNTA: {msg_teste}\")\n",
        "    print(f\"RESPOSTA: {resposta['answer']}\")\n",
        "    if resposta[\"contexto_encontrado\"]:\n",
        "      print(f\"CITAÇÕES:\")\n",
        "      for c in resposta[\"citacoes\"]:\n",
        "        print(f\"Documento: {c['documento']}\")\n",
        "        print(f\"Página: {c['pagina']}\")\n",
        "        print(f\"Trecho: {c['trecho']}\")\n",
        "      print(\"-----------------------------------------------\")"
      ],
      "metadata": {
        "colab": {
          "base_uri": "https://localhost:8080/"
        },
        "id": "IrIIqaTWlaPk",
        "outputId": "27dca362-1b73-4b5a-9e20-0d9b6373d30f"
      },
      "execution_count": 21,
      "outputs": [
        {
          "output_type": "stream",
          "name": "stdout",
          "text": [
            "PERGUNTA: Posso reembolsar a internet?\n",
            "RESPOSTA: Sim, a internet é reembolsável para quem trabalha em home office.\n",
            "\n",
            "**Detalhes:**\n",
            "\n",
            "*   É um **subsídio mensal de até R$ 100**.\n",
            "*   É necessário apresentar uma **nota fiscal nominal** para o reembolso.\n",
            "*   A solicitação deve ser submetida em até **10 dias corridos** após a despesa, conforme a política geral de reembolsos.\n",
            "CITAÇÕES:\n",
            "Documento: Política de Reembolsos (Viagens e Despesas).pdf\n",
            "Página: 1\n",
            "Trecho: lsáveis.​ 3.​ Transporte: táxi/app são permitidos quando não houver alternativa viável. Comprovantes obrigatórios.​ 4.​ Internet para home office: reembolsável via subsídio mensal de até R$ 100, conforme política de Home Office.​\n",
            "Documento: Políticas de Home Office.pdf\n",
            "Página: 1\n",
            "Trecho: 5.​ Conectividade: há subsídio mensal de internet domiciliar para quem trabalha em home office: até R$ 100/mês, mediante nota fiscal nominal.​ 6.​ Solicitação de\n",
            "-----------------------------------------------\n",
            "PERGUNTA: Posso ter mais 5 dias de trabalho remoto?\n",
            "RESPOSTA: Para solicitar 5 dias adicionais de trabalho remoto, você deve seguir o que está descrito no item 6 das \"Políticas de Home Office\":\n",
            "\n",
            "**6. Solicitação de exceção (ex.: 4-5 dias remotos): deve ser formalizada via chamado ao RH com justificativa do gestor.**\n",
            "\n",
            "Isso significa que você precisa primeiro conversar com seu gestor, obter a justificativa dele (ou a sua, com o aval dele) e então abrir um chamado no RH.\n",
            "\n",
            "Aqui está um rascunho de como você pode formalizar essa solicitação, primeiro para o seu gestor e depois para o RH:\n",
            "\n",
            "---\n",
            "\n",
            "**Passo 1: Comunicação com o seu Gestor (e-mail ou conversa inicial)**\n",
            "\n",
            "**Assunto:** Solicitação de Exceção - Trabalho Remoto Adicional (5 dias)\n",
            "\n",
            "**Prezado(a) [Nome do Gestor],**\n",
            "\n",
            "Gostaria de solicitar uma exceção para trabalhar remotamente por mais 5 dias, conforme previsto na política de Home Office (item 6: \"Solicitação de exceção (ex.: 4-5 dias remotos): deve ser formalizada via chamado ao RH com justificativa do gestor.\").\n",
            "\n",
            "Pretendo utilizar estes dias na semana de **[Data de Início] a [Data de Término]**.\n",
            "\n",
            "A justificativa para esta solicitação é **[INSERIR SUA JUSTIFICATIVA AQUI – EXTREMAMENTE IMPORTANTE!]**.\n",
            "*   **Exemplos de justificativas (escolha ou adapte a sua):**\n",
            "    *   \"Necessidade de acompanhar um familiar em outra cidade/estado por motivos de saúde.\"\n",
            "    *   \"Compromissos pessoais inadiáveis que demandam minha presença em [localidade] e que seriam dificultados pela rotina presencial.\"\n",
            "    *   \"Foco em um projeto específico que exige concentração ininterrupta e que pode ser melhor desenvolvido em um ambiente remoto sem interrupções.\"\n",
            "    *   \"Otimização do tempo de deslocamento para [motivo específico, ex: resolver questões burocráticas importantes].\"\n",
            "    *   \"Não há reuniões presenciais agendadas para a equipe nesta semana, permitindo maior flexibilidade.\"\n",
            "\n",
            "Durante este período, garanto que manterei minha produtividade, disponibilidade e seguirei todas as demais políticas de Home Office, incluindo o uso de VPN, bloqueio de tela e zelando pelos equipamentos da empresa.\n",
            "\n",
            "Para formalizar, preciso da sua justificativa e aprovação para então abrir o chamado no RH, conforme a política. Poderíamos conversar sobre isso?\n",
            "\n",
            "Agradeço a sua atenção e compreensão.\n",
            "\n",
            "Atenciosamente,\n",
            "\n",
            "[Seu Nome Completo]\n",
            "[Seu Cargo]\n",
            "\n",
            "---\n",
            "\n",
            "**Passo 2: Abrir o Chamado no RH (após a aprovação/justificativa do gestor)**\n",
            "\n",
            "Uma vez que seu gestor concorde e forneça a justificativa (ou valide a sua), você deve abrir um chamado no sistema de RH da empresa.\n",
            "\n",
            "**Título do Chamado:** Solicitação de Exceção - Trabalho Remoto Adicional (5 dias) - [Seu Nome]\n",
            "\n",
            "**Descrição do Chamado:**\n",
            "\n",
            "**Prezados(as) RH,**\n",
            "\n",
            "Conforme a política de Home Office (item 6), venho formalizar a solicitação de exceção para trabalhar remotamente por 5 dias adicionais.\n",
            "\n",
            "*   **Período Solicitado:** De [Data de Início] a [Data de Término]\n",
            "*   **Gestor(a) Direto(a):** [Nome do Gestor]\n",
            "*   **Justificativa (conforme acordado com o gestor):** [INSERIR A JUSTIFICATIVA AQUI, a mesma que você usou com o gestor ou a que ele forneceu/validou]\n",
            "\n",
            "Meu gestor, [Nome do Gestor], está ciente e apoia esta solicitação.\n",
            "\n",
            "Durante o período de trabalho remoto, comprometo-me a seguir todas as políticas da empresa, incluindo o uso de VPN, bloqueio de tela e a manutenção adequada dos equipamentos fornecidos.\n",
            "\n",
            "Agradeço a atenção e aguardo as próximas orientações.\n",
            "\n",
            "Atenciosamente,\n",
            "\n",
            "[Seu Nome Completo]\n",
            "[Seu Cargo]\n",
            "[Seu ID de Colaborador, se aplicável]\n",
            "\n",
            "---\n",
            "\n",
            "**Pontos importantes a considerar:**\n",
            "\n",
            "*   **Seja específico com as datas:** Indique claramente qual semana ou quais dias você pretende trabalhar remotamente.\n",
            "*   **A justificativa é chave:** Quanto mais clara e razoável for sua justificativa, maiores as chances de aprovação.\n",
            "*   **Disponibilidade:** Reforce que sua produtividade e disponibilidade não serão afetadas.\n",
            "*   **Antecedência:** Faça a solicitação com a maior antecedência possível para dar tempo de processamento ao gestor e ao RH.\n",
            "CITAÇÕES:\n",
            "Documento: Políticas de Home Office.pdf\n",
            "Página: 1\n",
            "Trecho:  para quem trabalha em home office: até R$ 100/mês, mediante nota fiscal nominal.​ 6.​ Solicitação de exceção (ex.: 4-5 dias remotos): deve ser formalizada via chamado ao RH com justificativa do gestor.\n",
            "Documento: Política de Reembolsos (Viagens e Despesas).pdf\n",
            "Página: 1\n",
            "Trecho: são reembolsáveis.​ 3.​ Transporte: táxi/app são permitidos quando não houver alternativa viável. Comprovantes obrigatór\n",
            "-----------------------------------------------\n",
            "PERGUNTA: Posso reembolsar cursos e treinamento da Alura?\n",
            "RESPOSTA: Sim, cursos e treinamentos (como os da Alura) **podem** ser reembolsados, mas há condições importantes a serem seguidas, conforme a política de reembolsos:\n",
            "\n",
            "1.  **Aprovação Prévia:** É obrigatória a aprovação prévia do seu gestor *antes* da compra do curso.\n",
            "2.  **Orçamento do Time:** Deve haver um orçamento disponível e aprovado pelo time para essa finalidade.\n",
            "3.  **Nota Fiscal:** Você precisará apresentar a nota fiscal do curso.\n",
            "4.  **Prazo de Submissão:** O pedido de reembolso deve ser submetido em até 10 dias corridos após a despesa.\n",
            "\n",
            "Portanto, antes de adquirir qualquer curso da Alura com a intenção de reembolso, você deve **obrigatoriamente** conversar com seu gestor para obter a aprovação e verificar a disponibilidade de orçamento.\n",
            "CITAÇÕES:\n",
            "Documento: Política de Reembolsos (Viagens e Despesas).pdf\n",
            "Página: 1\n",
            "Trecho: Política de Reembolsos (Viagens e Despesas) 1.​ Reembolso: requer nota fiscal e deve ser submetido em até 10 dias corrid\n",
            "Documento: Políticas de Home Office.pdf\n",
            "Página: 1\n",
            "Trecho: Políticas de Home Office 1.​ A empresa adota modelo híbrido: mínimo de 2 dias presenciais por semana, salvo exceções apr\n",
            "-----------------------------------------------\n",
            "PERGUNTA: Quantas capivaras tem no Rio Pinheiro?\n",
            "RESPOSTA: A informação sobre a quantidade de capivaras no Rio Pinheiro **não está presente** nos documentos fornecidos (\"Política de Reembolsos\" e \"Políticas de Home Office\").\n",
            "\n",
            "Os textos tratam apenas de regras internas da empresa sobre despesas, reembolsos e trabalho remoto.\n",
            "CITAÇÕES:\n",
            "Documento: Política de Reembolsos (Viagens e Despesas).pdf\n",
            "Página: 1\n",
            "Trecho: Política de Reembolsos (Viagens e Despesas) 1.​ Reembolso: requer nota fiscal e deve ser submetido em até 10 dias corrid\n",
            "Documento: Políticas de Home Office.pdf\n",
            "Página: 1\n",
            "Trecho: 5.​ Conectividade: há subsídio mensal de internet domiciliar para quem trabalha em home office: até R$ 100/mês, mediante\n",
            "-----------------------------------------------\n"
          ]
        }
      ]
    },
    {
      "cell_type": "markdown",
      "source": [
        "# Aula 3"
      ],
      "metadata": {
        "id": "4S1UGxTNqKDJ"
      }
    },
    {
      "cell_type": "code",
      "source": [
        "!pip install -q --upgrade langgraph"
      ],
      "metadata": {
        "colab": {
          "base_uri": "https://localhost:8080/"
        },
        "id": "DnkjBG2EqM7l",
        "outputId": "3ca158e3-cb97-4acf-a19c-61c9ab72ee3d"
      },
      "execution_count": 22,
      "outputs": [
        {
          "output_type": "stream",
          "name": "stdout",
          "text": [
            "\u001b[?25l     \u001b[90m━━━━━━━━━━━━━━━━━━━━━━━━━━━━━━━━━━━━━━━━\u001b[0m \u001b[32m0.0/43.7 kB\u001b[0m \u001b[31m?\u001b[0m eta \u001b[36m-:--:--\u001b[0m\r\u001b[2K     \u001b[90m━━━━━━━━━━━━━━━━━━━━━━━━━━━━━━━━━━━━━━━━\u001b[0m \u001b[32m43.7/43.7 kB\u001b[0m \u001b[31m1.6 MB/s\u001b[0m eta \u001b[36m0:00:00\u001b[0m\n",
            "\u001b[?25h\u001b[?25l   \u001b[90m━━━━━━━━━━━━━━━━━━━━━━━━━━━━━━━━━━━━━━━━\u001b[0m \u001b[32m0.0/153.3 kB\u001b[0m \u001b[31m?\u001b[0m eta \u001b[36m-:--:--\u001b[0m\r\u001b[2K   \u001b[90m━━━━━━━━━━━━━━━━━━━━━━━━━━━━━━━━━━━━━━━━\u001b[0m \u001b[32m153.3/153.3 kB\u001b[0m \u001b[31m5.3 MB/s\u001b[0m eta \u001b[36m0:00:00\u001b[0m\n",
            "\u001b[2K   \u001b[90m━━━━━━━━━━━━━━━━━━━━━━━━━━━━━━━━━━━━━━━━\u001b[0m \u001b[32m43.9/43.9 kB\u001b[0m \u001b[31m2.7 MB/s\u001b[0m eta \u001b[36m0:00:00\u001b[0m\n",
            "\u001b[2K   \u001b[90m━━━━━━━━━━━━━━━━━━━━━━━━━━━━━━━━━━━━━━━━\u001b[0m \u001b[32m54.6/54.6 kB\u001b[0m \u001b[31m3.5 MB/s\u001b[0m eta \u001b[36m0:00:00\u001b[0m\n",
            "\u001b[2K   \u001b[90m━━━━━━━━━━━━━━━━━━━━━━━━━━━━━━━━━━━━━━━━\u001b[0m \u001b[32m216.7/216.7 kB\u001b[0m \u001b[31m12.7 MB/s\u001b[0m eta \u001b[36m0:00:00\u001b[0m\n",
            "\u001b[?25h"
          ]
        }
      ]
    },
    {
      "cell_type": "code",
      "source": [],
      "metadata": {
        "id": "KPof8eCbqbBs"
      },
      "execution_count": 22,
      "outputs": []
    }
  ]
}